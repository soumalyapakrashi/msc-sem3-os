{
 "cells": [
  {
   "cell_type": "markdown",
   "id": "2da3fc9b-820e-41f7-a43d-134e98b046e1",
   "metadata": {},
   "source": [
    "# Task 1.1\n",
    "\n",
    "Write an algorithm to check if a node, say A, is good to be the initiator node for CL Algorithm (Chandy-Lamport's State Recording Algorithm)."
   ]
  },
  {
   "cell_type": "markdown",
   "id": "484ef6f2-95c7-41e5-ad52-2fd88e5e83cf",
   "metadata": {},
   "source": [
    "## Idea\n",
    "\n",
    "In Chandy-Lamport's State Recording Algorithm, the initiator node, starts the process of recording the state, and then sends markers (or control messages) to every node it is connected to. These nodes, in turn, on recieving the marker, record their respective states and send the marker to every node they are connected to, except the one from where the corresponding node recieved it's marker in the first place.\n",
    "\n",
    "So, we see that in this way, markers are distributed all over the network. Every node that recieves the marker, follows the same process. When any node, finishes recording it's state, and all of the nodes to whom it had sent a marker, also finishes recording their states, the node sends another control message to it's parent (parent, here, refers to the node from where it recieved the marker in the first place) stating that it has finshed recording it's state and sends back the state information.\n",
    "\n",
    "In this way, the response control message, will be propagated all throughout the network and will eventually come back to the initiator (after all the accessible nodes have been traversed). The initiator node can then compile the state recordings of all the individual nodes (or this might have been done by the individual nodes themselves according to the implementation) and we get the final state of the machine.\n",
    "\n",
    "So, our target is to reach the maximum number of nodes possible from the initiator node so that the entire system is covered in the state recording. If the network is not a disconnected network, then ideally, we would want to reach all of the nodes from the initaiator node. So, to check whether a node A, is good enough to be the initiator node, we have to check whether all of the other nodes can be accessed from this node A."
   ]
  },
  {
   "cell_type": "markdown",
   "id": "3b91ef8b-bf74-4dbc-9124-d8151f63b8d9",
   "metadata": {},
   "source": [
    "## Implementation\n",
    "\n",
    "We accept the network of the distributed system as an adjacency matrix. Along with this, we also take a list containing the labels of the nodes in order and the starting node.\n",
    "\n",
    "**Anyone who is running this program, is expected to give their respective input in the following cell**"
   ]
  },
  {
   "cell_type": "code",
   "execution_count": 4,
   "id": "9f8653b2-fb43-405f-997e-66f6958ebb6f",
   "metadata": {},
   "outputs": [],
   "source": [
    "adjacency_matrix = [\n",
    "    [ 0, 1, 0, 0, 0, 0 ],\n",
    "    [ 0, 0, 1, 0, 0, 0 ],\n",
    "    [ 0, 0, 0, 0, 1, 0 ],\n",
    "    [ 0, 1, 0, 0, 0, 0 ],\n",
    "    [ 0, 0, 0, 1, 0, 1 ],\n",
    "    [ 0, 0, 0, 0, 0, 0 ]\n",
    "]\n",
    "\n",
    "node_list = [ 'A', 'B', 'C', 'D', 'E', 'F' ]\n",
    "initiator_node = 'C'"
   ]
  },
  {
   "cell_type": "markdown",
   "id": "b295d1a5-bab4-42bf-8b5f-bb63f3de5a77",
   "metadata": {},
   "source": [
    "It is assumed that the given network is connected and there are no disconnected components.\n",
    "\n",
    "Starting from the given initiator node, we traverse all the reachable nodes in a recursive fashion and maintain a list of nodes that have been traversed. Every time we encounter a new node that has previously not been traversed, we record that in the visited list. If we encounter a node that has been traversed previously, we just return to the calling (parent) node.\n",
    "\n",
    "In this way, when all the reachable nodes are traversed, the algorithm completes. We check whether all the nodes in the network has actually been traversed or not. If so, we state that the given initiator node is a good candidate to be the initiator node. Else, we state the given node is not a good candidate to be the initiator node."
   ]
  },
  {
   "cell_type": "code",
   "execution_count": 5,
   "id": "0e49c6d2-81d3-47b8-87e3-d496f42d3167",
   "metadata": {},
   "outputs": [
    {
     "name": "stdout",
     "output_type": "stream",
     "text": [
      "The node C is not a good candidate to be the initiator node.\n"
     ]
    }
   ],
   "source": [
    "# Initially the visited list will be having all False. When each node is traversed, its value is changed to True\n",
    "visited_list = []\n",
    "for node in node_list:\n",
    "    visited_list.append(False)\n",
    "\n",
    "# Function recursively traverses and records all the reachable nodes from it's current node\n",
    "def traverseNodes(node):\n",
    "    # If node has already been traversed, return\n",
    "    if(visited_list[node] == True):\n",
    "        return\n",
    "    \n",
    "    # If not, mark the current node as tranversed\n",
    "    visited_list[node] = True\n",
    "    \n",
    "    # One by one, traverse each node that is accessible from the current node\n",
    "    for index in range(len(adjacency_matrix)):\n",
    "        if(adjacency_matrix[node][index] == 1):\n",
    "            traverseNodes(index)\n",
    "\n",
    "# Convert the node label to a numeric value so that accessing matrices becomes easier\n",
    "node_numeric = node_list.index(initiator_node)\n",
    "\n",
    "# Traverse all the nodes in the network and prepare the visited list\n",
    "traverseNodes(node_numeric)\n",
    "\n",
    "# Check whether there are any unvisited nodes in the visited list. If there are, then the given initiator node\n",
    "# is not a good enough candidate to be the initiator node\n",
    "isGoodInitiator = True\n",
    "for value in visited_list:\n",
    "    if(value == False):\n",
    "        isGoodInitiator = False\n",
    "\n",
    "# Print the result\n",
    "if(isGoodInitiator == True):\n",
    "    print(f\"The node {initiator_node} is a good candidate to be the initiator node.\")\n",
    "else:\n",
    "    print(f\"The node {initiator_node} is not a good candidate to be the initiator node.\")"
   ]
  },
  {
   "cell_type": "markdown",
   "id": "d19553f4-c70f-4b92-a6fd-53ef76c2064d",
   "metadata": {},
   "source": [
    "# Task 1.2\n",
    "\n",
    "Improve your solution to list all the nodes for the given use case, that are good to be the initiator nodes for the CL algorithm."
   ]
  },
  {
   "cell_type": "markdown",
   "id": "bec9db0f-ff6a-4711-a407-c8762c325c18",
   "metadata": {},
   "source": [
    "## Implementation\n",
    "\n",
    "Implementing this is pretty straightforward from the previous solution. Instead of checking only one node in the previous case (the initiator node), here, we consider all the nodes in the network to be the initiator node, one by one, and run the traversal algorithm for each one of them.\n",
    "\n",
    "The adjacency matrix and node list are taken from the first code cell."
   ]
  },
  {
   "cell_type": "code",
   "execution_count": 6,
   "id": "9bfa7eed-f70a-4560-b46f-fce4fa2d5a6b",
   "metadata": {},
   "outputs": [
    {
     "name": "stdout",
     "output_type": "stream",
     "text": [
      "Nodes that can be good initiators: A\n"
     ]
    }
   ],
   "source": [
    "# Initially the visited list will be having all False. When each node is traversed, its value is changed to True\n",
    "visited_list = []\n",
    "# List will contain all the nodes that are good initiator nodes\n",
    "good_initiators = []\n",
    "\n",
    "def setupVisitedList():\n",
    "    for node in node_list:\n",
    "        visited_list.append(False)\n",
    "\n",
    "# Function recursively traverses and records all the reachable nodes from it's current node\n",
    "def traverseNodes(node):\n",
    "    # If node has already been traversed, return\n",
    "    if(visited_list[node] == True):\n",
    "        return\n",
    "    \n",
    "    # If not, mark the current node as tranversed\n",
    "    visited_list[node] = True\n",
    "    \n",
    "    # One by one, traverse each node that is accessible from the current node\n",
    "    for index in range(len(adjacency_matrix)):\n",
    "        if(adjacency_matrix[node][index] == 1):\n",
    "            traverseNodes(index)\n",
    "\n",
    "for node in node_list:\n",
    "    # Initialize the visited list to False\n",
    "    visited_list = []\n",
    "    setupVisitedList()\n",
    "    \n",
    "    # Convert the node label to a numeric value so that accessing matrices becomes easier\n",
    "    node_numeric = node_list.index(node)\n",
    "\n",
    "    # Traverse all the nodes in the network and prepare the visited list\n",
    "    traverseNodes(node_numeric)\n",
    "\n",
    "    # Check whether there are any unvisited nodes in the visited list. If there are, then the given initiator node\n",
    "    # is not a good enough candidate to be the initiator node\n",
    "    isGoodInitiator = True\n",
    "    for value in visited_list:\n",
    "        if(value == False):\n",
    "            isGoodInitiator = False\n",
    "\n",
    "    # Update the result\n",
    "    if(isGoodInitiator == True):\n",
    "        good_initiators.append(node)\n",
    "\n",
    "# Print all the nodes that are good initiator nodes\n",
    "if(len(good_initiators) == 0):\n",
    "    print(\"There are no nodes in the given system that can act as good initiators\")\n",
    "else:\n",
    "    print(\"Nodes that can be good initiators:\", end = \" \")\n",
    "    for index in range(len(good_initiators)):\n",
    "        if(index == len(good_initiators) - 1):\n",
    "            print(good_initiators[index])\n",
    "        else:\n",
    "            print(f\"{good_initiators[index]},\", end = \" \")"
   ]
  }
 ],
 "metadata": {
  "kernelspec": {
   "display_name": "Python 3 (ipykernel)",
   "language": "python",
   "name": "python3"
  },
  "language_info": {
   "codemirror_mode": {
    "name": "ipython",
    "version": 3
   },
   "file_extension": ".py",
   "mimetype": "text/x-python",
   "name": "python",
   "nbconvert_exporter": "python",
   "pygments_lexer": "ipython3",
   "version": "3.8.5"
  }
 },
 "nbformat": 4,
 "nbformat_minor": 5
}
